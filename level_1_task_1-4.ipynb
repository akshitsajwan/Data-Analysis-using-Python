{
 "cells": [
  {
   "cell_type": "markdown",
   "id": "98f042b8-629a-4fc8-8e37-97119eb3ef05",
   "metadata": {},
   "source": [
    ">#  Data Analysis Tasks(Level-1)\n",
    "---\n",
    "\n",
    "**Note:** If you face any issues with file reading, please change the `file_path` variable based on the location of your data file on your system."
   ]
  },
  {
   "cell_type": "code",
   "execution_count": 284,
   "id": "9b2ae176-0823-49fa-8442-a92876e8dbdb",
   "metadata": {},
   "outputs": [],
   "source": [
    "import pandas as pd\n",
    "import matplotlib.pyplot as plt"
   ]
  },
  {
   "cell_type": "code",
   "execution_count": 286,
   "id": "1693e148-e2b5-4741-b056-31dad3c8347f",
   "metadata": {},
   "outputs": [],
   "source": [
    "file_path = r'C:\\Users\\Akshit Sajwan\\Desktop\\Cognifyz_Internship\\Working Zone\\DATA ANALYSIS TASK LIST AND DATASET\\internship_tasks\\dataset\\dataset.csv'"
   ]
  },
  {
   "cell_type": "code",
   "execution_count": 288,
   "id": "4bc2b7d3-2bd3-4e21-8fb1-c7116efb4b75",
   "metadata": {},
   "outputs": [
    {
     "data": {
      "text/html": [
       "<div>\n",
       "<style scoped>\n",
       "    .dataframe tbody tr th:only-of-type {\n",
       "        vertical-align: middle;\n",
       "    }\n",
       "\n",
       "    .dataframe tbody tr th {\n",
       "        vertical-align: top;\n",
       "    }\n",
       "\n",
       "    .dataframe thead th {\n",
       "        text-align: right;\n",
       "    }\n",
       "</style>\n",
       "<table border=\"1\" class=\"dataframe\">\n",
       "  <thead>\n",
       "    <tr style=\"text-align: right;\">\n",
       "      <th></th>\n",
       "      <th>Restaurant ID</th>\n",
       "      <th>Restaurant Name</th>\n",
       "      <th>Country Code</th>\n",
       "      <th>City</th>\n",
       "      <th>Address</th>\n",
       "      <th>Locality</th>\n",
       "      <th>Locality Verbose</th>\n",
       "      <th>Longitude</th>\n",
       "      <th>Latitude</th>\n",
       "      <th>Cuisines</th>\n",
       "      <th>...</th>\n",
       "      <th>Currency</th>\n",
       "      <th>Has Table booking</th>\n",
       "      <th>Has Online delivery</th>\n",
       "      <th>Is delivering now</th>\n",
       "      <th>Switch to order menu</th>\n",
       "      <th>Price range</th>\n",
       "      <th>Aggregate rating</th>\n",
       "      <th>Rating color</th>\n",
       "      <th>Rating text</th>\n",
       "      <th>Votes</th>\n",
       "    </tr>\n",
       "  </thead>\n",
       "  <tbody>\n",
       "    <tr>\n",
       "      <th>0</th>\n",
       "      <td>6317637</td>\n",
       "      <td>Le Petit Souffle</td>\n",
       "      <td>162</td>\n",
       "      <td>Makati City</td>\n",
       "      <td>Third Floor, Century City Mall, Kalayaan Avenu...</td>\n",
       "      <td>Century City Mall, Poblacion, Makati City</td>\n",
       "      <td>Century City Mall, Poblacion, Makati City, Mak...</td>\n",
       "      <td>121.027535</td>\n",
       "      <td>14.565443</td>\n",
       "      <td>French, Japanese, Desserts</td>\n",
       "      <td>...</td>\n",
       "      <td>Botswana Pula(P)</td>\n",
       "      <td>Yes</td>\n",
       "      <td>No</td>\n",
       "      <td>No</td>\n",
       "      <td>No</td>\n",
       "      <td>3</td>\n",
       "      <td>4.8</td>\n",
       "      <td>Dark Green</td>\n",
       "      <td>Excellent</td>\n",
       "      <td>314</td>\n",
       "    </tr>\n",
       "    <tr>\n",
       "      <th>1</th>\n",
       "      <td>6304287</td>\n",
       "      <td>Izakaya Kikufuji</td>\n",
       "      <td>162</td>\n",
       "      <td>Makati City</td>\n",
       "      <td>Little Tokyo, 2277 Chino Roces Avenue, Legaspi...</td>\n",
       "      <td>Little Tokyo, Legaspi Village, Makati City</td>\n",
       "      <td>Little Tokyo, Legaspi Village, Makati City, Ma...</td>\n",
       "      <td>121.014101</td>\n",
       "      <td>14.553708</td>\n",
       "      <td>Japanese</td>\n",
       "      <td>...</td>\n",
       "      <td>Botswana Pula(P)</td>\n",
       "      <td>Yes</td>\n",
       "      <td>No</td>\n",
       "      <td>No</td>\n",
       "      <td>No</td>\n",
       "      <td>3</td>\n",
       "      <td>4.5</td>\n",
       "      <td>Dark Green</td>\n",
       "      <td>Excellent</td>\n",
       "      <td>591</td>\n",
       "    </tr>\n",
       "    <tr>\n",
       "      <th>2</th>\n",
       "      <td>6300002</td>\n",
       "      <td>Heat - Edsa Shangri-La</td>\n",
       "      <td>162</td>\n",
       "      <td>Mandaluyong City</td>\n",
       "      <td>Edsa Shangri-La, 1 Garden Way, Ortigas, Mandal...</td>\n",
       "      <td>Edsa Shangri-La, Ortigas, Mandaluyong City</td>\n",
       "      <td>Edsa Shangri-La, Ortigas, Mandaluyong City, Ma...</td>\n",
       "      <td>121.056831</td>\n",
       "      <td>14.581404</td>\n",
       "      <td>Seafood, Asian, Filipino, Indian</td>\n",
       "      <td>...</td>\n",
       "      <td>Botswana Pula(P)</td>\n",
       "      <td>Yes</td>\n",
       "      <td>No</td>\n",
       "      <td>No</td>\n",
       "      <td>No</td>\n",
       "      <td>4</td>\n",
       "      <td>4.4</td>\n",
       "      <td>Green</td>\n",
       "      <td>Very Good</td>\n",
       "      <td>270</td>\n",
       "    </tr>\n",
       "    <tr>\n",
       "      <th>3</th>\n",
       "      <td>6318506</td>\n",
       "      <td>Ooma</td>\n",
       "      <td>162</td>\n",
       "      <td>Mandaluyong City</td>\n",
       "      <td>Third Floor, Mega Fashion Hall, SM Megamall, O...</td>\n",
       "      <td>SM Megamall, Ortigas, Mandaluyong City</td>\n",
       "      <td>SM Megamall, Ortigas, Mandaluyong City, Mandal...</td>\n",
       "      <td>121.056475</td>\n",
       "      <td>14.585318</td>\n",
       "      <td>Japanese, Sushi</td>\n",
       "      <td>...</td>\n",
       "      <td>Botswana Pula(P)</td>\n",
       "      <td>No</td>\n",
       "      <td>No</td>\n",
       "      <td>No</td>\n",
       "      <td>No</td>\n",
       "      <td>4</td>\n",
       "      <td>4.9</td>\n",
       "      <td>Dark Green</td>\n",
       "      <td>Excellent</td>\n",
       "      <td>365</td>\n",
       "    </tr>\n",
       "    <tr>\n",
       "      <th>4</th>\n",
       "      <td>6314302</td>\n",
       "      <td>Sambo Kojin</td>\n",
       "      <td>162</td>\n",
       "      <td>Mandaluyong City</td>\n",
       "      <td>Third Floor, Mega Atrium, SM Megamall, Ortigas...</td>\n",
       "      <td>SM Megamall, Ortigas, Mandaluyong City</td>\n",
       "      <td>SM Megamall, Ortigas, Mandaluyong City, Mandal...</td>\n",
       "      <td>121.057508</td>\n",
       "      <td>14.584450</td>\n",
       "      <td>Japanese, Korean</td>\n",
       "      <td>...</td>\n",
       "      <td>Botswana Pula(P)</td>\n",
       "      <td>Yes</td>\n",
       "      <td>No</td>\n",
       "      <td>No</td>\n",
       "      <td>No</td>\n",
       "      <td>4</td>\n",
       "      <td>4.8</td>\n",
       "      <td>Dark Green</td>\n",
       "      <td>Excellent</td>\n",
       "      <td>229</td>\n",
       "    </tr>\n",
       "  </tbody>\n",
       "</table>\n",
       "<p>5 rows × 21 columns</p>\n",
       "</div>"
      ],
      "text/plain": [
       "   Restaurant ID         Restaurant Name  Country Code              City  \\\n",
       "0        6317637        Le Petit Souffle           162       Makati City   \n",
       "1        6304287        Izakaya Kikufuji           162       Makati City   \n",
       "2        6300002  Heat - Edsa Shangri-La           162  Mandaluyong City   \n",
       "3        6318506                    Ooma           162  Mandaluyong City   \n",
       "4        6314302             Sambo Kojin           162  Mandaluyong City   \n",
       "\n",
       "                                             Address  \\\n",
       "0  Third Floor, Century City Mall, Kalayaan Avenu...   \n",
       "1  Little Tokyo, 2277 Chino Roces Avenue, Legaspi...   \n",
       "2  Edsa Shangri-La, 1 Garden Way, Ortigas, Mandal...   \n",
       "3  Third Floor, Mega Fashion Hall, SM Megamall, O...   \n",
       "4  Third Floor, Mega Atrium, SM Megamall, Ortigas...   \n",
       "\n",
       "                                     Locality  \\\n",
       "0   Century City Mall, Poblacion, Makati City   \n",
       "1  Little Tokyo, Legaspi Village, Makati City   \n",
       "2  Edsa Shangri-La, Ortigas, Mandaluyong City   \n",
       "3      SM Megamall, Ortigas, Mandaluyong City   \n",
       "4      SM Megamall, Ortigas, Mandaluyong City   \n",
       "\n",
       "                                    Locality Verbose   Longitude   Latitude  \\\n",
       "0  Century City Mall, Poblacion, Makati City, Mak...  121.027535  14.565443   \n",
       "1  Little Tokyo, Legaspi Village, Makati City, Ma...  121.014101  14.553708   \n",
       "2  Edsa Shangri-La, Ortigas, Mandaluyong City, Ma...  121.056831  14.581404   \n",
       "3  SM Megamall, Ortigas, Mandaluyong City, Mandal...  121.056475  14.585318   \n",
       "4  SM Megamall, Ortigas, Mandaluyong City, Mandal...  121.057508  14.584450   \n",
       "\n",
       "                           Cuisines  ...          Currency Has Table booking  \\\n",
       "0        French, Japanese, Desserts  ...  Botswana Pula(P)               Yes   \n",
       "1                          Japanese  ...  Botswana Pula(P)               Yes   \n",
       "2  Seafood, Asian, Filipino, Indian  ...  Botswana Pula(P)               Yes   \n",
       "3                   Japanese, Sushi  ...  Botswana Pula(P)                No   \n",
       "4                  Japanese, Korean  ...  Botswana Pula(P)               Yes   \n",
       "\n",
       "  Has Online delivery Is delivering now Switch to order menu Price range  \\\n",
       "0                  No                No                   No           3   \n",
       "1                  No                No                   No           3   \n",
       "2                  No                No                   No           4   \n",
       "3                  No                No                   No           4   \n",
       "4                  No                No                   No           4   \n",
       "\n",
       "   Aggregate rating  Rating color Rating text Votes  \n",
       "0               4.8    Dark Green   Excellent   314  \n",
       "1               4.5    Dark Green   Excellent   591  \n",
       "2               4.4         Green   Very Good   270  \n",
       "3               4.9    Dark Green   Excellent   365  \n",
       "4               4.8    Dark Green   Excellent   229  \n",
       "\n",
       "[5 rows x 21 columns]"
      ]
     },
     "execution_count": 288,
     "metadata": {},
     "output_type": "execute_result"
    }
   ],
   "source": [
    "df=pd.read_csv(file_path)\n",
    "df.head()"
   ]
  },
  {
   "cell_type": "markdown",
   "id": "52d57e2f-2be4-4368-b831-6d9d907cf8f7",
   "metadata": {},
   "source": [
    "# Task 1: Top Cuisines\n",
    "\n",
    "1. Determine the top three most common cuisines in the dataset.\n",
    "\n",
    "2. Calculate the percentage of restaurants that serve each of the top cuisines."
   ]
  },
  {
   "cell_type": "code",
   "execution_count": 291,
   "id": "7225daf7-222b-477f-be25-3a8a300c1835",
   "metadata": {},
   "outputs": [],
   "source": [
    "cuisine_s=df['Cuisines'].dropna().str.split(',')\n",
    "cuisine_exp=cuisine_s.explode()"
   ]
  },
  {
   "cell_type": "code",
   "execution_count": 293,
   "id": "735c493c-5c79-492c-bcb9-fdbe70cff98c",
   "metadata": {},
   "outputs": [
    {
     "data": {
      "image/png": "[encoded data removed]",
      "text/plain": [
       "<Figure size 640x480 with 1 Axes>"
      ]
     },
     "metadata": {},
     "output_type": "display_data"
    }
   ],
   "source": [
    "top_cuisines = cuisine_exp.value_counts().head(3)\n",
    "top_cuisines.plot(kind='bar', color='skyblue')\n",
    "plt.title('Top 3 Cuisines')\n",
    "plt.xlabel('Cuisine')\n",
    "plt.ylabel('Number of Restaurants')\n",
    "plt.show()"
   ]
  },
  {
   "cell_type": "code",
   "execution_count": 294,
   "id": "e8b9f520-db44-4a31-b731-6a8852a1e1e8",
   "metadata": {},
   "outputs": [
    {
     "data": {
      "image/png": "[encoded data removed]",
      "text/plain": [
       "<Figure size 640x480 with 1 Axes>"
      ]
     },
     "metadata": {},
     "output_type": "display_data"
    }
   ],
   "source": [
    "total_restaurants = len(df)\n",
    "cuisines_percentage=(top_cuisines/total_restaurants)*100\n",
    "cuisines_percentage.plot(kind='bar', color='green')\n",
    "plt.title('Percentage of Restaurants Serving Top 3 Cuisines')\n",
    "plt.xlabel('Cuisine')\n",
    "plt.ylabel('Percentage')\n",
    "plt.show()"
   ]
  },
  {
   "cell_type": "code",
   "execution_count": 297,
   "id": "fa8b3c8a-888a-42bc-b410-02acb78bfe3b",
   "metadata": {},
   "outputs": [
    {
     "data": {
      "text/plain": [
       "Cuisines\n",
       "North Indian    31.326563\n",
       " Chinese        19.683803\n",
       " Fast Food      13.757722\n",
       "Name: count, dtype: float64"
      ]
     },
     "execution_count": 297,
     "metadata": {},
     "output_type": "execute_result"
    }
   ],
   "source": [
    "cuisines_percentage"
   ]
  },
  {
   "cell_type": "markdown",
   "id": "dec12673-1c52-4cb3-ad6f-8b18040378e9",
   "metadata": {},
   "source": [
    "## Conclusion\n",
    "\n",
    "* *The top three most common cuisines in the dataset are:North Indian, Chinese, Fast Food*\n",
    "* *the percentage of restaurants that serve each of the top cuisines are: 31.326563, 19.683803, 13.757722*"
   ]
  },
  {
   "cell_type": "markdown",
   "id": "6cc6f77b-0aec-4e9e-99c8-541f030f4b1c",
   "metadata": {},
   "source": [
    "# Task 2: City Analysis\n",
    "\n",
    "1. Identify the city with the highest number of restaurants in the dataset.\n",
    "\n",
    "2. Calculate the average rating for restaurants in each city.\n",
    "\n",
    "3. Determine the city with the highest average rating."
   ]
  },
  {
   "cell_type": "code",
   "execution_count": 301,
   "id": "0525d371-65d1-4ef5-b67a-431f623e22be",
   "metadata": {},
   "outputs": [
    {
     "name": "stdout",
     "output_type": "stream",
     "text": [
      "The city with the highest number of restaurants in the dataset is New Delhi\n"
     ]
    }
   ],
   "source": [
    "city_counts=df['City'].value_counts()\n",
    "top_city=city_counts.idxmax()\n",
    "print(\"The city with the highest number of restaurants in the dataset is \"+ top_city)"
   ]
  },
  {
   "cell_type": "code",
   "execution_count": 322,
   "id": "5fc4b465-5cb6-40a9-87f9-b1dfbb6a8c20",
   "metadata": {},
   "outputs": [
    {
     "name": "stdout",
     "output_type": "stream",
     "text": [
      "The average rating for restaurants in each city are following:\\nCity\n",
      "Abu Dhabi    4.300000\n",
      "Agra         3.965000\n",
      "Ahmedabad    4.161905\n",
      "Albany       3.555000\n",
      "Allahabad    3.395000\n"
     ]
    }
   ],
   "source": [
    "city_avg_rating=df.groupby('City')['Aggregate rating'].mean()\n",
    "print(r\"The average rating for restaurants in each city are following:\\n\"+ city_avg_rating.head().to_string())"
   ]
  },
  {
   "cell_type": "code",
   "execution_count": 324,
   "id": "f78d258e-e7ce-4773-8a89-57510f238ea6",
   "metadata": {},
   "outputs": [
    {
     "name": "stdout",
     "output_type": "stream",
     "text": [
      "The city with the highest average restaurant rating is:\n",
      "City\n",
      "Inner City    4.9\n"
     ]
    }
   ],
   "source": [
    "highest_avg_rating= city_avg_rating.sort_values(ascending=False).head(1)\n",
    "print(\"The city with the highest average restaurant rating is:\\n\"+highest_avg_rating.to_string())"
   ]
  },
  {
   "cell_type": "markdown",
   "id": "76cc0baf-7d90-4c50-8da9-249a6e535cfa",
   "metadata": {},
   "source": [
    "## Conclusion\n",
    "* *The city with the highest number of restaurants in the dataset is:\"New Delhi\"*\n",
    "* *The average rating for restaurants in each city are following specified above.*\n",
    "* *The city with the highest average rating in dataset is: \"Inner City with 4.9\"*"
   ]
  },
  {
   "cell_type": "markdown",
   "id": "b4cc373f-207a-43c1-be81-42616dfc597f",
   "metadata": {},
   "source": [
    "# Task 3: Price Range Distribution\n",
    "\n",
    "1. Create a histogram or bar chart to visualize the distribution of price ranges among the restaurants.\n",
    "\n",
    "2. Calculate the percentage of restaurants in each price range category."
   ]
  },
  {
   "cell_type": "code",
   "execution_count": 328,
   "id": "913a35dc-2a76-4a6b-9651-adc4693b572b",
   "metadata": {},
   "outputs": [
    {
     "data": {
      "image/png": "[encoded data removed]",
      "text/plain": [
       "<Figure size 1000x600 with 1 Axes>"
      ]
     },
     "metadata": {},
     "output_type": "display_data"
    },
    {
     "data": {
      "text/plain": [
       "Price range\n",
       "1    4444\n",
       "2    3113\n",
       "3    1408\n",
       "4     586\n",
       "Name: count, dtype: int64"
      ]
     },
     "execution_count": 328,
     "metadata": {},
     "output_type": "execute_result"
    }
   ],
   "source": [
    "price_range_counts= df['Price range'].value_counts().sort_index()\n",
    "\n",
    "plt.figure(figsize=(10, 6))\n",
    "price_range_counts.plot(kind='bar', color='cyan')\n",
    "plt.title('Price Range Distribution')\n",
    "plt.xlabel('Price Range')\n",
    "plt.ylabel('Number of Restaurants')\n",
    "plt.show()\n",
    "\n",
    "price_range_counts"
   ]
  },
  {
   "cell_type": "code",
   "execution_count": 330,
   "id": "01b9e400-fdc1-466e-b5a7-bfcd9236066f",
   "metadata": {},
   "outputs": [
    {
     "name": "stdout",
     "output_type": "stream",
     "text": [
      "The percentage of restaurants in each price range category\n",
      "Price range\n",
      "1    46.529159\n",
      "2    32.593446\n",
      "3    14.741912\n",
      "4     6.135483\n"
     ]
    }
   ],
   "source": [
    "price_range_percentage=(price_range_counts/total_restaurants)*100\n",
    "print(\"The percentage of restaurants in each price range category\\n\"+price_range_percentage.to_string())"
   ]
  },
  {
   "cell_type": "markdown",
   "id": "8023e9f3-9acd-493f-b117-9930a13fc73f",
   "metadata": {},
   "source": [
    "## Conclusion\n",
    "* *Create a histogram or bar chart to visualize the distribution of price ranges among the restaurants are specified above.*\n",
    "\n",
    "* *The percentage of restaurants in each price range category is 46.529159, 32.593446, 14.741912, 6.135483*"
   ]
  },
  {
   "cell_type": "markdown",
   "id": "4ee52c35-c343-4128-8962-b70dafd8ba28",
   "metadata": {},
   "source": [
    "# Task 4: Online Delivery\n",
    "\n",
    "1. Determine the percentage of restaurants that offer online delivery.\n",
    "2. Compare the average ratings of restaurants with and without online delivery."
   ]
  },
  {
   "cell_type": "code",
   "execution_count": 334,
   "id": "f84e20ee-1aed-4d78-a057-0792748be718",
   "metadata": {},
   "outputs": [
    {
     "name": "stdout",
     "output_type": "stream",
     "text": [
      "The total percentage of restaurants that offer online delivery is\n",
      "25.662234321013504\n"
     ]
    }
   ],
   "source": [
    "online_delivery_counts=df['Has Online delivery'].value_counts()\n",
    "online_delivery_percent=(online_delivery_counts['Yes']/total_restaurants)*100\n",
    "print(\"The total percentage of restaurants that offer online delivery is\\n\" + str(online_delivery_percent))\n"
   ]
  },
  {
   "cell_type": "code",
   "execution_count": 336,
   "id": "07ada4b3-c4fc-488c-b6bb-48f3a050f53a",
   "metadata": {},
   "outputs": [],
   "source": [
    "avg_rating_online_delivery=df[df['Has Online delivery']=='Yes']['Aggregate rating'].mean()\n",
    "avg_rating_no_online_delivery=df[df['Has Online delivery']=='No']['Aggregate rating'].mean()"
   ]
  },
  {
   "cell_type": "code",
   "execution_count": 338,
   "id": "56bc0756-2546-48f8-87e0-e2994c32f607",
   "metadata": {},
   "outputs": [
    {
     "name": "stdout",
     "output_type": "stream",
     "text": [
      "The average ratings of restaurants with and without online delivery:\n",
      "With Online Delivery       3.248837\n",
      "Without Online Delivery    2.465296\n"
     ]
    }
   ],
   "source": [
    "ratings_comparison = pd.Series([avg_rating_online_delivery, avg_rating_no_online_delivery], index=['With Online Delivery', 'Without Online Delivery'])\n",
    "print(\"The average ratings of restaurants with and without online delivery:\\n\"+ratings_comparison.to_string())"
   ]
  },
  {
   "cell_type": "markdown",
   "id": "b8a58978-7f25-42c7-be47-71bb02ccdf73",
   "metadata": {},
   "source": [
    "## Conclusion\n",
    "* *The total percentage of restaurants that offer online delivery is\n",
    "`25.662234321013504`*\n",
    "\n",
    "* *The average ratings of restaurants with and without online delivery:\n",
    " `With Online Delivery: 3.248837` and `Without Online Delivery: 2.465296`*"
   ]
  }
 ],
 "metadata": {
  "kernelspec": {
   "display_name": "Python 3 (ipykernel)",
   "language": "python",
   "name": "python3"
  },
  "language_info": {
   "codemirror_mode": {
    "name": "ipython",
    "version": 3
   },
   "file_extension": ".py",
   "mimetype": "text/x-python",
   "name": "python",
   "nbconvert_exporter": "python",
   "pygments_lexer": "ipython3",
   "version": "3.11.7"
  }
 },
 "nbformat": 4,
 "nbformat_minor": 5
}
